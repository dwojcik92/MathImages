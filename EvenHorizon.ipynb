{
 "cells": [
  {
   "cell_type": "markdown",
   "id": "b4202f83-d485-409e-a4fa-b4aa5ddda91e",
   "metadata": {},
   "source": [
    "# \"Event Horizon\" in one equation"
   ]
  },
  {
   "cell_type": "code",
   "execution_count": 112,
   "id": "93eec19d-da1b-421d-91ef-dea349bb5afb",
   "metadata": {
    "execution": {
     "iopub.execute_input": "2025-03-05T09:54:05.639707Z",
     "iopub.status.busy": "2025-03-05T09:54:05.639442Z",
     "iopub.status.idle": "2025-03-05T09:54:06.403774Z",
     "shell.execute_reply": "2025-03-05T09:54:06.403538Z",
     "shell.execute_reply.started": "2025-03-05T09:54:05.639689Z"
    }
   },
   "outputs": [
    {
     "data": {
      "application/vnd.jupyter.widget-view+json": {
       "model_id": "c16d13ab173a4ffb99d17e26be759991",
       "version_major": 2,
       "version_minor": 0
      },
      "text/plain": [
       "interactive(children=(FloatSlider(value=-0.5, description='x_min', max=5.0, min=-5.0), FloatSlider(value=1.0, …"
      ]
     },
     "metadata": {},
     "output_type": "display_data"
    },
    {
     "data": {
      "text/plain": [
       "<function __main__.update_plot(x_min=-0.5, x_max=1.0, y_min=-0.5, y_max=1.0, w=0.5, h=0.5, n_points=1204)>"
      ]
     },
     "execution_count": 112,
     "metadata": {},
     "output_type": "execute_result"
    }
   ],
   "source": [
    "import numpy as np\n",
    "import matplotlib.pyplot as plt\n",
    "from ipywidgets import interact\n",
    "\n",
    "def o(x, y, w, h):\n",
    "    a1 = np.sqrt(((2*x - w) / h)**2 + ((2*y - h) / h)**2)\n",
    "    a2 = 0.01 * h / (2*(x - y) + h - w + 1.e-6)\n",
    "    return 0.1 / np.abs(a1 - 0.5 + a2)\n",
    "\n",
    "def update_plot(x_min=-0.5, x_max=1.0, y_min=-0.5, y_max=1.0, w=0.5, h=0.5, n_points=1204):\n",
    "    # Create a mesh grid based on the slider parameters.\n",
    "    x, y = np.meshgrid(np.linspace(x_min, x_max, int(n_points)),\n",
    "                       np.linspace(y_min, y_max, int(n_points)))\n",
    "    image_data = o(x, y, w, h)\n",
    "    \n",
    "    plt.figure(figsize=(10, 20), dpi=300)\n",
    "    plt.imshow(image_data, cmap='gray', origin='lower', vmin=0, vmax=1)\n",
    "    plt.axis('off')\n",
    "    plt.show()\n",
    "\n",
    "# Create interactive sliders for each parameter.\n",
    "interact(update_plot,\n",
    "         x_min=(-5.0, 5.0, 0.1),\n",
    "         x_max=(-5.0, 5.0, 0.1),\n",
    "         y_min=(-5.0, 5.0, 0.1),\n",
    "         y_max=(-5.0, 5.0, 0.1),\n",
    "         w=(0.0, 5.0, 0.1),\n",
    "         h=(0.1, 5.0, 0.1),  # h must be >0 to avoid division by zero\n",
    "         n_points=(100, 2000, 10))\n"
   ]
  },
  {
   "cell_type": "code",
   "execution_count": null,
   "id": "d80a485f-abc6-4c5e-adf0-9ec3d5624722",
   "metadata": {},
   "outputs": [],
   "source": []
  }
 ],
 "metadata": {
  "kernelspec": {
   "display_name": "Python 3 (ipykernel)",
   "language": "python",
   "name": "python3"
  },
  "language_info": {
   "codemirror_mode": {
    "name": "ipython",
    "version": 3
   },
   "file_extension": ".py",
   "mimetype": "text/x-python",
   "name": "python",
   "nbconvert_exporter": "python",
   "pygments_lexer": "ipython3",
   "version": "3.11.8"
  }
 },
 "nbformat": 4,
 "nbformat_minor": 5
}
